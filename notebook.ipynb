{
 "cells": [
  {
   "cell_type": "markdown",
   "id": "15b8281e-b56b-4672-807b-5e3bcf73b69f",
   "metadata": {},
   "source": [
    "Python 3.8\n",
    "\n",
    "SQL"
   ]
  },
  {
   "cell_type": "markdown",
   "id": "e32c9694-7acd-44a9-87eb-2df6e5973023",
   "metadata": {},
   "source": [
    "Project Instructions\n",
    "\n",
    "Explore and analyze the students data to see how the length of stay (stay) impacts the average mental health diagnostic scores of the international students present in the study.\n",
    "\n",
    "    Return a table with nine rows and five columns.\n",
    "    The five columns should be aliased as: stay, count_int, average_phq, average_scs, and average_as, in that order.\n",
    "    The average columns should contain the average of the todep (PHQ-9 test), tosc (SCS test), and toas (ASISS test) columns for each length of stay, rounded to two decimal places.\n",
    "    The count_int column should be the number of international students for each length of stay.\n",
    "    Sort the results by the length of stay in descending order.\n",
    "\n",
    "Note: Creating new cells in the workbook will rename the DataFrame. Make sure that your final solution uses the name df."
   ]
  },
  {
   "cell_type": "markdown",
   "id": "8204c104-9525-4c9e-b93e-90cff5abf9d8",
   "metadata": {},
   "source": [
    "How to approach the project\n",
    "\n",
    "1. Performing the calculations\n",
    "\n",
    "Count the international students and find the summary statistics for each diagnostic test using aggregate functions. Round the averages to two decimal places and use the aliases min_phq, max_phq, and avg_phq.\n",
    "Counting records\n",
    "\n",
    "    Count the number of international students with COUNT(*). You'll apply the filter and grouping later on in the WHERE clause.\n",
    "\n",
    "Calculating the averages\n",
    "\n",
    "    The AVG() function will aggregate the values using the mean or average.\n",
    "    You'll need to use the ROUND() function to reduce the values in the score fields to two decimal places.\n",
    "\n",
    "Aliasing\n",
    "\n",
    "    You can create an alias with the AS command within the SELECT statement.\n",
    "\n",
    "2. Filter and group the data\n",
    "\n",
    "You previously performed counts and average calculations on the data; now you need to apply the appropriate filter and group so that the calculations are done on the international student group only.\n",
    "Creating the filter\n",
    "\n",
    "    The WHERE clause can be coupled with many different operators, including =.\n",
    "    Check the inter_dom data to see what the value is for an international student - be careful with case sensitivity.\n",
    "\n",
    "Grouping data\n",
    "\n",
    "    To perform aggregations on groups of data, use a GROUP BY clause.\n",
    "    GROUP BY comes after WHERE but before ORDER BY.\n",
    "    The grouped column also need to be in the SELECT statement.\n",
    "\n",
    "3. Ordering records\n",
    "\n",
    "Order the resulting table in descending order of stay.\n",
    "Ordering data\n",
    "\n",
    "    You'll need to ORDER BY the stay field with an additional keyword for descending order."
   ]
  },
  {
   "cell_type": "markdown",
   "id": "3b05e587-87e3-4bec-9511-ddaae6552ac4",
   "metadata": {},
   "source": [
    "![Illustration of silhouetted heads](mentalhealth.jpg)"
   ]
  },
  {
   "cell_type": "markdown",
   "id": "dbd633ea-2c0a-4bac-a6fe-0cc86896162b",
   "metadata": {},
   "source": [
    "Does going to university in a different country affect your mental health? A Japanese international university surveyed its students in 2018 and published a study the following year that was approved by several ethical and regulatory boards.\n",
    "\n",
    "The study found that international students have a higher risk of mental health difficulties than the general population, and that social connectedness (belonging to a social group) and acculturative stress (stress associated with joining a new culture) are predictive of depression.\n",
    "\n",
    "\n",
    "Explore the `students` data using PostgreSQL to find out if you would come to a similar conclusion for international students and see if the length of stay is a contributing factor.\n",
    "\n",
    "Here is a data description of the columns you may find helpful."
   ]
  },
  {
   "cell_type": "markdown",
   "id": "167d9c0e-7aba-4e44-99e3-679159e28970",
   "metadata": {},
   "source": [
    "| Field Name    | Description                                      |\n",
    "| ------------- | ------------------------------------------------ |\n",
    "| `inter_dom`     | Types of students (international or domestic)   |\n",
    "| `japanese_cate` | Japanese language proficiency                    |\n",
    "| `english_cate`  | English language proficiency                     |\n",
    "| `academic`      | Current academic level (undergraduate or graduate) |\n",
    "| `age`           | Current age of student                           |\n",
    "| `stay`          | Current length of stay in years                  |\n",
    "| `todep`         | Total score of depression (PHQ-9 test)           |\n",
    "| `tosc`          | Total score of social connectedness (SCS test)   |\n",
    "| `toas`          | Total score of acculturative stress (ASISS test) |"
   ]
  },
  {
   "cell_type": "code",
   "execution_count": 1,
   "id": "1cc390d2-ff53-4148-a963-1214f2a90979",
   "metadata": {},
   "outputs": [
    {
     "ename": "PermissionError",
     "evalue": "[WinError 32] The process cannot access the file because it is being used by another process: 'Any_Database_Name.db'",
     "output_type": "error",
     "traceback": [
      "\u001b[1;31m---------------------------------------------------------------------------\u001b[0m",
      "\u001b[1;31mPermissionError\u001b[0m                           Traceback (most recent call last)",
      "Cell \u001b[1;32mIn[1], line 36\u001b[0m\n\u001b[0;32m     14\u001b[0m conn \u001b[38;5;241m=\u001b[39m sql\u001b[38;5;241m.\u001b[39mconnect(\u001b[38;5;124m\"\u001b[39m\u001b[38;5;124mAny_Database_Name.db\u001b[39m\u001b[38;5;124m\"\u001b[39m) \u001b[38;5;66;03m#if the db does not exist, this creates a Any_Database_Name.db file in the current directory\u001b[39;00m\n\u001b[0;32m     15\u001b[0m \u001b[38;5;66;03m# *Attempt 1 to remove errors for publishing*\u001b[39;00m\n\u001b[0;32m     16\u001b[0m \u001b[38;5;66;03m# remove previous database - to clear and prevent the error \"ValueError: Table 'students' already exists.\" for publication\u001b[39;00m\n\u001b[0;32m     17\u001b[0m \u001b[38;5;66;03m# os.remove(\"Any_Database_Name.db\") \u001b[39;00m\n\u001b[1;32m   (...)\u001b[0m\n\u001b[0;32m     34\u001b[0m \u001b[38;5;66;03m#         continue\u001b[39;00m\n\u001b[0;32m     35\u001b[0m \u001b[38;5;66;03m# remove previous database - to clear and prevent the error \"ValueError: Table 'students' already exists.\" for publication\u001b[39;00m\n\u001b[1;32m---> 36\u001b[0m \u001b[43mos\u001b[49m\u001b[38;5;241;43m.\u001b[39;49m\u001b[43mremove\u001b[49m\u001b[43m(\u001b[49m\u001b[38;5;124;43m\"\u001b[39;49m\u001b[38;5;124;43mAny_Database_Name.db\u001b[39;49m\u001b[38;5;124;43m\"\u001b[39;49m\u001b[43m)\u001b[49m \n\u001b[0;32m     37\u001b[0m \u001b[38;5;66;03m# store your table in the database:\u001b[39;00m\n\u001b[0;32m     38\u001b[0m df\u001b[38;5;241m.\u001b[39mto_sql(\u001b[38;5;124m'\u001b[39m\u001b[38;5;124mstudents\u001b[39m\u001b[38;5;124m'\u001b[39m, conn)\n",
      "\u001b[1;31mPermissionError\u001b[0m: [WinError 32] The process cannot access the file because it is being used by another process: 'Any_Database_Name.db'"
     ]
    }
   ],
   "source": [
    "import os\n",
    "import pandas as pd\n",
    "import psutil\n",
    "import sqlite3 as sql\n",
    "\n",
    "# https://stackoverflow.com/questions/36431213/sql-statement-for-csv-files-on-ipython-notebook\n",
    "# Convert a flat file (CSV) to a SQLite database for analysis - as close to resembling SQL\n",
    "# in Jupyter Notebook run using Python to standardize portfolio projects and efforts\n",
    "\n",
    "# read the CSV\n",
    "# df = pd.read_csv('students.csv')\n",
    "df = pd.read_csv('C:/Users/Standard/PycharmProjects/pythonProject/workspace/students.csv')\n",
    "# connect to a database\n",
    "conn = sql.connect(\"Any_Database_Name.db\") #if the db does not exist, this creates a Any_Database_Name.db file in the current directory\n",
    "# *Attempt 1 to remove errors for publishing*\n",
    "# remove previous database - to clear and prevent the error \"ValueError: Table 'students' already exists.\" for publication\n",
    "# os.remove(\"Any_Database_Name.db\") \n",
    "# *Result 1:* PermissionError: [WinError 32] The process cannot access the file because it is being used by another process: 'Any_Database_Name.db'\n",
    "# https://stackoverflow.com/questions/56947481/kill-all-processes-locking-a-file\n",
    "# *Attempt 2 to remove errors for publishing*\n",
    "# *Result 2:*\n",
    "# Kernel Restarting\n",
    "# The kernel for workspace/notebook.ipynb appears to have died. It will restart\n",
    "# *Response 2:*\n",
    "# Will not remove this code and rerun top to bottom and see if any errors occur\n",
    "# automatically.\n",
    "# for p in psutil.process_iter():\n",
    "#     try:\n",
    "#         if \"Any_Database_Name.db\" in str(p.open_files()):\n",
    "#             print(p.name())\n",
    "#             print(\"^^^^^^^^^^^^^^^^^\")\n",
    "#             p.kill()\n",
    "#     except:\n",
    "#         continue\n",
    "# *Attempt 3:*\n",
    "# remove previous database - to clear and prevent the error \"ValueError: Table 'students' already exists.\" for publication\n",
    "# os.remove(\"Any_Database_Name.db\") \n",
    "# *Result 3 was the same as Result 1*\n",
    "# *Attempt 4:* Manually end the Notebook kernel, then delete the Database file to run the Notebook successfully before publishing, rerun this cell only once\n",
    "# *Result 4: *\n",
    "# store your table in the database:\n",
    "df.to_sql('students', conn)\n",
    "# read a SQL Query out of your database and into a pandas dataframe\n",
    "# sql_string = 'SELECT * FROM students'\n",
    "# df = pd.read_sql(sql_string, conn)\n",
    "# Rerun to confirm the students table already exists"
   ]
  },
  {
   "cell_type": "code",
   "execution_count": null,
   "id": "a60a4d75-634c-4965-8e01-804780e6df98",
   "metadata": {
    "customType": "sql",
    "dataFrameVariableName": "students",
    "executionCancelledAt": null,
    "executionTime": 1285,
    "lastExecutedAt": 1734367211216,
    "lastExecutedByKernel": "710299c3-d1a7-4993-ada6-0ce6ecbb19ef",
    "lastScheduledRunId": null,
    "lastSuccessfullyExecutedCode": "-- Run this code to view the data in students\nSELECT * \nFROM students;",
    "outputsMetadata": {
     "0": {
      "columns": {
       "inter_dom": {
        "wrap": true
       }
      },
      "height": 543,
      "tableState": {
       "quickFilterText": ""
      },
      "type": "dataFrame"
     }
    },
    "sqlCellMode": "dataFrame",
    "sqlSource": {
     "integrationId": "89e17161-a224-4a8a-846b-0adc0fe7a4b1",
     "integrationType": "postgresql",
     "type": "integration"
    }
   },
   "outputs": [],
   "source": [
    "# 1 - https://mrjacklu.github.io/tutorials/Connecting-Jupypter-Notebook-to-SQL-Databse/\n",
    "# 2 - https://github.com/mrjacklu/tutorials/blob/master/SQL%20Querying%20in%20Jupyter/SQL%20Querying%20in%20SQLite.ipynb\n",
    "# Create a variable to the name of your data set, which should be in the same folder\n",
    "# as this notebook\n",
    "\n",
    "database = 'Any_Database_Name.db'"
   ]
  },
  {
   "cell_type": "code",
   "execution_count": null,
   "id": "5bbaa655-fdee-4504-afcd-e9acf4987817",
   "metadata": {},
   "outputs": [],
   "source": [
    "# Make the connection. \n",
    "\n",
    "connection = sql.connect(database)"
   ]
  },
  {
   "cell_type": "code",
   "execution_count": null,
   "id": "03bd8cbd-c46f-43ed-b425-0bfb89fc0d00",
   "metadata": {},
   "outputs": [],
   "source": [
    "# -- Run this code to view the data in students and make available for all future queries, no filters or grouping\n",
    "sql_query = '''\n",
    "SELECT * \n",
    "FROM students;\n",
    "'''"
   ]
  },
  {
   "cell_type": "code",
   "execution_count": null,
   "id": "db50e229-53cc-440b-ac06-f1772728574a",
   "metadata": {},
   "outputs": [],
   "source": [
    "# Update the df variable from the flat file conversion to a DataFrame\n",
    "# with 2 inputs, the database connection and the query variable\n",
    "df = pd.read_sql_query(sql_query, connection)"
   ]
  },
  {
   "cell_type": "code",
   "execution_count": null,
   "id": "44bf6e9e-54ad-48e2-9507-a938b490e73b",
   "metadata": {},
   "outputs": [],
   "source": [
    "# Testing if the table data is visible\n",
    "df.head(10)"
   ]
  },
  {
   "cell_type": "code",
   "execution_count": null,
   "id": "ab01f727-3ae9-491a-bf8b-6d507e7dbf15",
   "metadata": {
    "chartConfig": {
     "bar": {
      "hasRoundedCorners": true,
      "stacked": false
     },
     "type": "bar",
     "version": "v1"
    },
    "customType": "sql",
    "dataFrameVariableName": "df",
    "executionCancelledAt": null,
    "executionTime": 2769,
    "lastExecutedAt": 1734367213985,
    "lastExecutedByKernel": "710299c3-d1a7-4993-ada6-0ce6ecbb19ef",
    "lastScheduledRunId": null,
    "lastSuccessfullyExecutedCode": "-- Find the number of international students and their average scores by length of stay, in descending order of length of stay\nSELECT stay, \n       COUNT(*) AS count_int,\n       ROUND(AVG(todep), 2) AS average_phq, \n       ROUND(AVG(tosc), 2) AS average_scs, \n       ROUND(AVG(toas), 2) AS average_as\nFROM students\nWHERE inter_dom = 'Inter'\nGROUP BY stay\nORDER BY stay DESC;",
    "outputsMetadata": {
     "0": {
      "height": 353,
      "tableState": {
       "quickFilterText": ""
      },
      "type": "dataFrame"
     }
    },
    "sqlCellMode": "dataFrame",
    "sqlSource": {
     "integrationId": "89e17161-a224-4a8a-846b-0adc0fe7a4b1",
     "integrationType": "postgresql",
     "type": "integration"
    },
    "visualizeDataframe": false
   },
   "outputs": [],
   "source": [
    "# -- Find the number of international students and their average scores by length of stay, in descending order of length of stay\n",
    "sql_query = '''\n",
    "SELECT stay, \n",
    "       COUNT(*) AS count_int,\n",
    "       ROUND(AVG(todep), 2) AS average_phq, \n",
    "       ROUND(AVG(tosc), 2) AS average_scs, \n",
    "       ROUND(AVG(toas), 2) AS average_as\n",
    "FROM students\n",
    "WHERE inter_dom = 'Inter'\n",
    "GROUP BY stay\n",
    "ORDER BY stay DESC;\n",
    "'''\n",
    "# Store results in a new dataframe, which will be replaced throughout, original df preserved for as original data\n",
    "df2 = pd.read_sql_query(sql_query, connection)\n",
    "# Print results\n",
    "df2"
   ]
  },
  {
   "cell_type": "code",
   "execution_count": null,
   "id": "8da62b7f-eb63-4c7f-a9cb-bca4044031c7",
   "metadata": {},
   "outputs": [],
   "source": []
  }
 ],
 "metadata": {
  "colab": {
   "name": "Welcome to DataCamp Workspaces.ipynb",
   "provenance": []
  },
  "kernelspec": {
   "display_name": "Python 3 (ipykernel)",
   "language": "python",
   "name": "python3"
  },
  "language_info": {
   "codemirror_mode": {
    "name": "ipython",
    "version": 3
   },
   "file_extension": ".py",
   "mimetype": "text/x-python",
   "name": "python",
   "nbconvert_exporter": "python",
   "pygments_lexer": "ipython3",
   "version": "3.11.9"
  }
 },
 "nbformat": 4,
 "nbformat_minor": 5
}
